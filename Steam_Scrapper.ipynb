{
  "cells": [
    {
      "cell_type": "markdown",
      "metadata": {
        "id": "view-in-github",
        "colab_type": "text"
      },
      "source": [
        "<a href=\"https://colab.research.google.com/github/AntekPraktykant/SteamScrapper/blob/main/Steam_Scrapper.ipynb\" target=\"_parent\"><img src=\"https://colab.research.google.com/assets/colab-badge.svg\" alt=\"Open In Colab\"/></a>"
      ]
    },
    {
      "cell_type": "code",
      "execution_count": null,
      "metadata": {
        "id": "CSusrE4vZKPC"
      },
      "outputs": [],
      "source": [
        "import requests\n",
        "import regex\n",
        "from bs4 import BeautifulSoup"
      ]
    },
    {
      "cell_type": "code",
      "execution_count": null,
      "metadata": {
        "id": "pP9YxES4hk3n"
      },
      "outputs": [],
      "source": [
        "szukam = 'Dying Light 2 Stay Human'\n",
        "szukam = szukam.lower()"
      ]
    },
    {
      "cell_type": "code",
      "execution_count": null,
      "metadata": {
        "id": "GVlVa86dZPh_"
      },
      "outputs": [],
      "source": [
        "start = 0\n",
        "count = 100\n",
        "all_games = []"
      ]
    },
    {
      "cell_type": "code",
      "execution_count": null,
      "metadata": {
        "id": "b1hmKcjCaeCK",
        "colab": {
          "base_uri": "https://localhost:8080/"
        },
        "outputId": "ae215fd0-e9d2-44e5-a90f-d727439a1b82"
      },
      "outputs": [
        {
          "output_type": "stream",
          "name": "stdout",
          "text": [
            "Siorbię gry od 0 do 100\n",
            "Siorbię gry od 100 do 200\n",
            "Siorbię gry od 200 do 300\n",
            "Siorbię gry od 300 do 400\n",
            "Siorbię gry od 400 do 500\n",
            "Siorbię gry od 500 do 600\n",
            "Siorbię gry od 600 do 700\n",
            "Siorbię gry od 700 do 800\n",
            "Siorbię gry od 800 do 900\n",
            "Siorbię gry od 900 do 1000\n",
            "Siorbię gry od 1000 do 1100\n",
            "Siorbię gry od 1100 do 1200\n",
            "Siorbię gry od 1200 do 1300\n"
          ]
        }
      ],
      "source": [
        "while start < 1300:\n",
        "  url = f'https://store.steampowered.com/search/?ignore_preferences=1&filter=popularwishlist&query=&start={start}&count={count}&infinite=1'\n",
        "  r = requests.get(url)\n",
        "  soup = BeautifulSoup(r.text, 'lxml')\n",
        "  games = soup.find_all('span')\n",
        "\n",
        "  for game in games:\n",
        "    game = game.get_text()\n",
        "    game = game[:game.find(r'\\r')]\n",
        "    game = game.lower()\n",
        "    game = regex.sub(r'[^A-Za-z0-9 ]+', '', game)  \n",
        "    game = game.replace('  ', ' ')\n",
        "    if not game.startswith(' '):\n",
        "      all_games.append(game)\n",
        "  print(f'Siorbię gry od {start} do {start + count}')  \n",
        "  start = start + 100"
      ]
    },
    {
      "cell_type": "code",
      "execution_count": null,
      "metadata": {
        "colab": {
          "base_uri": "https://localhost:8080/"
        },
        "id": "VyPc-MFvhEcz",
        "outputId": "b47082f2-c475-402d-ba86-a61a7598d679"
      },
      "outputs": [
        {
          "output_type": "stream",
          "name": "stdout",
          "text": [
            "dying light 2 stay human jest na liście na miejcu: 1\n"
          ]
        }
      ],
      "source": [
        "if szukam in all_games:\n",
        "  print(f'{szukam} jest na liście na miejcu:', all_games.index(szukam) + 1)\n",
        "else:\n",
        "  print('Nie ma na liście')"
      ]
    },
    {
      "cell_type": "code",
      "source": [
        "print(all_games)"
      ],
      "metadata": {
        "colab": {
          "base_uri": "https://localhost:8080/"
        },
        "id": "_KjACZUUYGzt",
        "outputId": "927b82ac-c676-487c-aa86-c142f12119e5"
      },
      "execution_count": null,
      "outputs": [
        {
          "output_type": "stream",
          "name": "stdout",
          "text": [
            "['dying light 2 stay human', 'elden ring', 'party animals', 'hollow knight silksong', 'god of war', 'the day before', 'vampire the masquerade bloodlines 2', 'total war warhammer iii', 'stalker 2 heart of chernobyl', 'kerbal space program 2', 'warhammer 40000 darktide', 'frostpunk 2', 'dwarf fortress', 'lost ark', '', 'karlson', 'monster hunter rise', 'manor lords', 'company of heroes 3', 'atomic heart', 'euro truck simulator 2 heart of russia', 'starfield', 'my time at sandrock', 'victoria 3', 'stray', 'slime rancher 2', 'voidtrain', 'shadow warrior 3', 'the cycle frontier', 'tiny tinas wonderlands', 'terra nil', 'paralives', 'coral island', 'starship troopers terran command', 'falling frontier', 'anno mutationem', 'viking city builder', 'builders of egypt', 'endless dungeon', 'gothic 1 remake', 'teenage mutant ninja turtles shredders revenge', 'terra invicta', 'v rising', 'the wandering village', 'one lonely outpost', 'n1rv anna cyberpunk bartender action', 'palworld', 'occupy mars the game', 'knights of honor ii sovereign', 'no more room in hell 2', 'american truck simulator texas', 'the last night', 'a plague tale requiem', 'robin hood sherwood builders', 'the outlast trials', 'little witch in the woods', 'house flipper pets dlc', 'choochoo charles', 'evil west', 'scorn', 'the unliving', 'test drive unlimited solar crown', 'builder simulator', 'ixion', 'weird west', 'metal slug tactics', 'forspoken', 'cult of the lamb', 'guild wars 2', 'life is strange remastered', 'super people', 'thymesia', 'elex ii', 'tunic', 'operation lovecraft fallen doll', 'vr supported          ', 'vr supported          ', 'prehistoric kingdom', 'bomb rush cyberfunk', 'contraband police', 'we were here forever', 'two point campus', 'crowsworn', 'wild west dynasty', 'cuphead the delicious last course', 'replaced', 'hidden deep', 'there is no light', 'scp pandemic closed beta', 'gloomwood', 'smalland', 'warhammer 40000 chaos gate daemonhunters', 'boundary', 'wizard with a gun', 'chernobyl liquidators simulator', 'the lord of the rings gollum', 'alaskan truck simulator', 'pharaoh a new era', 'uncharted legacy of thieves collection', 'aircraft carrier survival', 'heros hour', 'mirror 2 project x', 'phantom brigade', 'beauty and violence valkyries', 'planet of lana', 'ooblets', 'roots of pacha', 'tree of life oddria', 'blood bowl 3', 'songs of conquest', 'survivors of the void', 'gestalt steam cinder', 'diplomacy is not an option', 'operation harsh doorstop', 'gatewalkers', 'expeditions rome', '20', '44993599          ', 'metropolisim', 'syberia the world before', 'i am your president', 'tfm the first men', 'xenonauts 2', 'coromon', 'bleak faith forsaken', 'midnight fight express', 'gunsmith simulator', 'super meat boy forever', 'hello neighbor 2', 'sea of stars', 'the last faith', 'car detailing simulator', 'loot river', 'destroy all humans 2 reprobed', 'gord', 'orc massage', 'trash sailors', 'far changing tides', 'akatori', 'trepang2', 'dinosaur fossil hunter', 'alien hominid invasion', 'postal brain damaged', 'mythbusters the game crazy experiments simulator', 'little kitty big city', 'taxi simulator', 'a space for the unbound', 'isonzo', 'earth from another sun', 'davigo', 'vr only          ', 'vr only          ', 'old world', 'tactical breach wizards', 'autopsy simulator', 'potion permit', 'the swordsmen x survival', 'ship builder simulator', 'beholder 3', 'alaloth champions of the four kingdoms', 'i am jesus christ', 'wars and roses', 'destroyer the uboat hunter', 'roman empire wars', 'animal shelter', 'winter survival simulator', 'soulstice', 'farthest frontier', 'vampire clans', 'alterlife', 'bear and breakfast', 'jagged alliance 3', 'the invincible', 'the stanley parable ultra deluxe', 'builders of greece', 'faith the unholy trinity', 'fallen aces', 'in the valley of gods', 'farmfix 2020', 'marvels midnight suns', 'orc warchief strategy city builder', 'dune spice wars', 'terraformers', 'samurai simulator', 'food truck simulator', 'police shootout', 'hunt the night', 'alliance of the sacred suns', 'captain of industry', 'lightyear frontier', 'dark envoy', 'no place for bravery', 'against the storm', 'synced offplanet', 'signalis', 'the mortuary assistant', 'sea power naval combat in the missile age', 'nivalis', 'distant worlds 2', 'deathground', 'reverse collapse code name bakery', 'unexplored 2 the wayfarers legacy', 'dysterra', 'martha is dead', 'realms beyond ashes of the fallen', 'out there oceans of time', 'builders of china', 'the king of fighters xv', 'eiyuden chronicle hundred heroes', 'word game', 'the iron oath', 'men of war ii', 'scp recontainment', 'transsiberian railway simulator', 'zenith the last city', 'vr only          ', 'vr only          ', 'being a dik season 2', 'crime scene cleaner', 'storyteller', 'have a nice death', 'return to nangrim', 'resident evil reverse', '35', '79995199          ', 'the darkest tales', 'american truck simulator montana', 'esports boxing club', 'ultimate fishing simulator 2', 'outbreak island', 'super buckyball tournament', 'hazel sky', 'peglin', 'road diner simulator', 'love money rocknroll', 'minekos night market', 'frozen flame', 'chinatown detective agency', 'trigon space story', 'persona 4 arena ultimax', 'dwerve', 'hyperbolica', 'outcast 2 a new beginning', 'endling extinction is forever', 'nobody saves the world', 'american motorcycle simulator', 'car manufacture', 'project haven', 'my forest home deluxe', 'windjammers 2', 'carx street', 'hellcard', 'kartrider drift', 'paranoid', 'hometopia', 'arc raiders', 'crowz', 'broken roads', 'grid legends', 'project warlock ii', 'children of silentown', 'exekiller', 'model builder', 'soda crisis', 'car wash simulator', 'cosmoteer starship architect commander', 'priest simulator', 'skyclimbers', 'book of hours', 'do not buy this game', 'militsioner', 'the past within', 'bakery simulator', 'destiny 2 the witch queen', 'wild life', 'five nights at freddys security breach', 'trek to yomi', '83', 'metal hellsinger', 'our apartment', 'stadium renovator', 'ninja simulator', 'inkulinati', 'spongebob squarepants the cosmic shake', 'open roads', 'ai the somnium files nirvana initiative', 'tormentor', 'broken arrow', 'ironsmith medieval simulator', 'homeworld 3', 'scarf', 'deadstick bush flight simulator', 'bushiden', 'the anacrusis', 'task force admiral vol1 american carrier battles', 'unholy', 'mars colony builder', 'shady knight', 'silt', 'citizen sleeper', 'yakuza empire', 'the mind hero', 'the ranchers', 'conscript', 'regiments', 'steelrising', 'beacon pines', 'space mechanic simulator', 'eiyuden chronicle rising', 'killer bean', 'coffee talk episode 2 hibiscus butterfly', 'young souls', 'red frost', 'orx', 'tribe primitive builder', 'stray blade', 'metal revolution ', 'what my neighbors are demons', 'scp secret files', 'dolmen', 'radio the universe', 'midnight ghost hunt', 'core keeper', 'kitori academy', 'cultic', 'oxenfree ii lost signals', 'warhammer 40000 shootas blood teef', 'bionicle masks of power', 'urban explorer', 'sanabi', 'tower princess', '', 'neon white', 'viking simulator valhalla awaits', 'firegirl hack n splash rescue', 'the store is closed', 'shadows of doubt', 'snacko', 'kao the kangaroo', 'cowboy life simulator', 'selaco', 'goblin stone', 'tiny combat arena', 'arenus', 'arcadian atlas', 'book of aliens', 'hotel renovator', 'blind fate edo no yami', 'night is coming', 'house flipper city', 'medic pacific war', '171pralpha', 'the planet crafter', 'portal revolution', 'the drifter', 'ripout', 'she dreams elsewhere', 'lunacy saint rhodes', 'simrail 2021 the railway simulator', 'asylum', 'spirit of the island', 'house flipper farm dlc', 'ratten reich', 'chained echoes', 'fire maneuver', 'moon village', 'last man sitting', 'aeterna noctis', 'zoria age of shattering', 'dark fracture', '9 years of shadows', 'oblivity find your perfect sensitivity', 'rawmen food fighter arena ', 'truck world australia', 'superpower 3', 'dead static drive', 'plastic love', 'sonic frontiers', 'glimmer in mirror', 'airport renovator', 'cat cafe manager', 'serial cleaners', 'destiny 2 the witch queen deluxe bungie 30th anniversary bundle', 'the matchless kungfu', 'jack move', 'rising front', 'honeycomb', 'promod', 'sacrifire', 'dog trainer', 'fata deum', 'paranoia happiness is mandatory', 'tainted grail the fall of avalon', 'outrider mako', 'dread delusion', 'metal mind', 'american theft 80s', 'urban strife', 'electrician simulator', 'overprime', 'dead cells the queen and the sea', 'they are here alien abduction horror', 'tank squad', 'the pope power sin', 'season', 'crusader kings iii royal court', 'farm folks', 'future fragments', 'aurelia special edition', 'itorah', 'core decay', 'big ambitions', 'batora lost haven', 'corsairs legacy pirate action rpg', 'life is strange before the storm remastered', 'sea dogs legendary edition', 'astral ascent', 'earthbreakers', 'we are legion rome', 'ember knights', 'apico', 'sandwalkers', 'what lives below', 'survive the fall', 'somerville', 'loopmancer', 'project witchstone', 'my neighbor alice', 'infection free zone', 'aztec empire', 'lovecrafts untold stories 2', 'airport contraband', 'conan chop chop', 'forsaken realms vahrins call', 'kapital sparks of revolution', 'selene apoptosis', 'nimoyd survival sandbox', 'lakeburg legacies', 'sea of craft', 'fraymakers', 'sin reloaded', 'expedition zero', 'the pale beyond', 'trail of ayash', 'zoeti', 'kingdom of the dead', 'my lovely wife', 'magin the rat project stories', 'siege of irdor', 'pirate commander', 'truck mechanic dangerous paths', 'cyber knights flashpoint', 'escape dungeon 2', 'oncein times of chaos', 'dungeon alchemist', 'not tonight 2', 'mago', 'fashion police squad', 'ambulance simulator', 'rune fencer illyia', 'akxolotl', 'brutal fate', 'brewmaster beer brewing simulator', 'vigilance 2099', 'totemic', 'dynasty warriors 9 empires', 'the legend of heroes trails from zero', 'jupiter moons mecha', 'read only memories neurodiver', 'haiku the robot', 'enchain', 'street tuning evolution', 'the legend of heroes trails into reverie', 'highrise city', 'human farm', 'chinese city constructor', 'peripeteia', 'this means warp', 'dark moon', 'commonhood', 'song of nunu a league of legends story', 'cyberpunk detective', 'survival machine', 'figment 2 creed valley', 'floppy knights', 'pull stay', 'my sisters secret', 'igi origins', 'lost eidolons', 'pandemic train', 'fatex courier simulator', 'immortality', 'extremely realistic siege warfare simulator', 'gigabash', 'supermarket manager', 'anvil saga', 'tune my car', 'turbo overkill', 'uboat commander', 'dynasty of the sands', 'medieval farmer simulator', 'into the darkness vr', 'vr only          ', 'vr only          ', 'project ferocious', 'norco', 'diluvian winds', 'undead citadel', 'vr only          ', 'vr only          ', 'patricks parabox', 'yacht mechanic simulator', 'vulpine', 'knights outlaws', 'gunsmith simulator prologue', 'the peterson case', 'lil gator game', 'monuments flipper', 'suicide squad kill the justice league', 'alfred hitchcock vertigo', 'blood west', 'card shark', 'pupperazzi', 'the legend of heroes trails to azure', 'detective simulator', 'house designer', '3 minutes to midnight a comedy graphic adventure', 'the legend of heroes sen no kiseki iv the end of saga', 'sapiens', 'scene investigators', 'negligee doubled', 'monark', 'pelagos rise of greece', 'mahou mating', 'fire commander', 'slimy sextet', 'x4 tides of avarice', 'spellmaster the saga', 'tinykin', 'olliolli world', 'please be happy', 'redneck party', 'atelier sophie 2 the alchemist of the mysterious dream', 'keylocker turn based cyberpunk action', 'lumbermill', 'rubi the wayward mira', 'woodzone', 'drifting weight of feathers', 'the legend of heroes zero no kiseki kai', 'cassette beasts', 'eville', 'daymare 1994 sandcastle', 'gladiators manager', 'master of magic', 'the witchs sexual prison', 'mercyful flames', 'rollercoaster mechanic', 'spiderheck', 'one dreamer', 'naked and afraid the game', 'iragon', 'vr supported          ', 'vr supported          ', 'destiny 2 the witch queen deluxe edition', 'war hospital', 'monsters domain', 'slaves of rome', 'we are ofk', 'the last oricru', 'the adventures of kincaid', 'protocorgi', 'criminal dissidia', 'souldiers', 'definitely not fried chicken', 'achilles legends untold', 'feudal baron kings land', 'riot operator', 'absolute tactics daughters of mercy', 'tchia', 'city of atlantis', 'burden of command', 'green hell vr', 'drill man rumble', 'the legend of nayuta boundless trails', 'elderand', 'venba', 'ilysia', 'vr only          ', 'vr only          ', 'terror of hemasaurus', 'selfloss', 'mask of the rose', 'retail royale', 'pigeon simulator', 'revolution the spark', 'lonesome village', 'skin deep', 'thief simulator 2', 'dissident frostland escape', 'sword reverie', 'vr only          ', 'vr only          ', 'outworlder', 'restaurant flipper', 'the garden path', 'tactical squad swat stories', 'cantata', 'ultra age', 'a sinful camp', 'ragtag crew', 'espresso tycoon', 'knuckle sandwich', 'skeleton crew', 'repo man', 'fragile existence', 'negative atmosphere', 'simbus', 'nobody the turnaround', 'age of space', 'forest ranger simulator', 'against', 'vr only          ', 'vr only          ', 'madison', 'police interceptors', 'you suck at parking', 'exzodiac', 'brigador killers', 'compound fracture', 'orphan age', 'city eye', 'the shimmering horizon and cursed blacksmith', 'ronin samurai redemption', 'acid knife', 'retreat to enen', 'infernax', 'adapt', 'countess in crimson', 'drill deal oil tycoon', 'ghost song', 'slender threads', 'bandit simulator', 'sail forth', 'mx vs atv legends', 'deiland pocket planet', 'soulash', 'our life now forever', 'dragon ball the breakers', 'first', 'astro colony', 'neko ghost jump', 'schim', 'haunted space', 'strange horticulture', 'terrorbane', 'farlanders', 'crocapoca crocodile maiden at the end of the world', 'mortal rite', 'ami', 'abriss build to destroy', 'transformice adventures', 'soyuz constructors', 'offroad mechanic simulator', 'fractured veil', 'cyberpunk naughty girls xxx', 'convrgence a league of legends story', 'ash of gods the way', 'lost viking kingdom of women', 'lunark', 'disco simulator', 'clid the snail', 'anthology of fear', 'hordecore', 'cursed to golf', 'hellseed', 'dustborn', 'mech hunter', 'will you snail', 'wild planet', 'sherman commander', 'second front', 'fault silence the pedant', 'moonshell island', 'karryns prison', 'deadhunters', 'phantom breaker omnia', 'super dungeon maker ', 'ova magica', 'my newborn life in a harem', 'anuchard', 'office management 101', 'wanderlost', 'nemesis distress', 'the way of wrath', 'moon farming', 'underground garage', 'hellscreen', 'moon remix rpg adventure', 'anitons', 'sons of valhalla', 'project heartbreak', 'internet generation', 'bound by blades', 'spark in the dark', 'lucen', 'kitsune tails', 'holomento', 'echo generation', 'radiance', 'gori cuddly carnage', 'the faceless double', 'split', 'the crackpet show', 'kingdom of wreck business', 'steamdolls order of chaos', 'roboco', 'a musical story', 'vanaris tactics', 'phantom doctrine the cabal', 'lumencraft', 'wedding designer', 'riot control simulator', 'paleo pines', 'lust from beyond m edition', 'the hauntings', 'scathe', 'ww2 rebuilder', 'mail time', 'oddventure', 'far north survival', 'broken pieces', 'my friendly neighborhood', 'how to build a magnificent kingdom', 'supraland six inches under', 'boc', 'sailor simulator', 'everafter falls', 'elements', 'roadwarden', 'fractured', 'dark quest board game', 'heart forth alicia', 'witchy life story', 'security guard', 'arcade paradise', 'exophobia', 'timemelters', 'blacksmith legends', 'the looter', '8bit adventures 2', 'chevalier historie', 'powerslave exhumed', 'ikai', 'autobahn police simulator 3', 'startup panic', 'nine noir lives', 'chinese frontiers', 'drug grower simulator', 'coal mining simulator', 'glitched', 'stardeus', 'perish', 'sunnyside', 'smutty scrolls', 'onsen master', 'ran lost islands', 'necrocity', 'nimbus infinity', 'goodbye volcano high', 'holy whore emily', 'tombstar', 'sonzai', 'detained too good for school', 'the contaminated', 'build and discover america', 'supplice', 'neverdark', 'planet zoo europe pack', 'moonshine inc', 'rosewater', 'my little army', 'fobia st dinfna hotel', 'summer vacation', 'vr only          ', 'vr only          ', 'miegakure', 'reverie knights tactics', 'the bookwalker', 'beautiful mystic defenders', 'aquarist', 'hubris', 'vr only          ', 'vr only          ', 'super idol', 'warcry challenges', 'reborn in sin', 'shadow of the road', 'the demon lord is new in town', 'gangster simulator', 'lakeside', 'whateverland', 'railroad corporation 2', 'mc mod maker', 'venice 2089', 'kingdom gun', 'pirate simulator', 'cloudscape', 'lord winklebottom investigates', 'prison simulator vr', 'vr only          ', 'vr only          ', 'demon queen melissa', 'trifox', 'bugsnax', 'blooming business casino', 'clanfolk', 'bramble the mountain king', 'climber sky is the limit', 'ghost on the shore', 'skald against the black priory', 'crowns and pawns kingdom of deceit', 'harvest days', 'arms trade tycoon tanks', 'ziggys cosmic adventures', 'vr only          ', 'vr only          ', 'captain bones', 'stasis bone totem', 'gold hunter', 'draconia', 'military', 'mohism battle of words', 'vr giants', 'vr only          ', 'vr only          ', 'far north', 'miss neko 2', '', 'solace state emotional cyberpunk stories', 'zookeeper', 'robocop rogue city', 'the breakin', 'vr supported          ', 'vr supported          ', 'afterconflict', 'teravit', 'kingslayer tactics', 'battlebit remastered', 'sayri the beginning', 'spirit swap lofi beats to match3 to', 'moo lander', 'ou', 'witch', 'the troop', 'momentum mod', 'urbek city builder', 'booze master', 'silenced', 'maid cafe', 'level zero', 'rescue party live', 'plantera 2 golden acorn', 'succubus x saint', 'b17 squadron', 'el dorado the golden city builder', 'sprawl', 'horse shelter 2022', 'aka', 'above snakes', 'brok the investigator', 'pope simulator', 'post trauma', 'solar system colonist', 'a tale of paper', 'blacktail', 'pizza simulator', 'letters a written adventure', 'cyber warrior', 'dreamhouse the game', '4story origin', 'isles of yore', 'soundfall', 'slime heroes', 'mahokenshi', 'justice sucks recharged', 'the dead end', 'postapo builder', 'jungle house', 'die after sunset', 'brave earth prologue', 'almastriga relics of azathoth', 'linked mask', 'kardboard kings', 'chernobyl 1986', 'farmer wars', 'life of delta', 'chains of fury', 'fortunes run', 'rolling hills make sushi make friends', 'internet cafe simulator 2', 'knights of messiah', 'mars first logistics', 'tsuki ni yorisou otome no sahou', 'love n war hero by chance ii', 'mist', 'ufo 50', 'red sails', '1428 shadows over silesia', 'sapphire safari', 'gnomepunk', 'revival recolonization', 'ghost of dragon', 'zephon', 'effigy', 'kokopas atlas', 'inside jennifer season 1', 'ghost marriage matchmaking', 'power to the people', 'everdream valley', 'hero flood rescue', 'gravity circuit', 'cats and the other lives', 'eons of war', 'uragun', 'truckers dynasty cuba libre', 'pizza empire', 'the last cube', 'starstruck hands of time', 'mike goes on hike', 'shashingo learn japanese with photography', 'samurai vandalism', 'survival quiz city', 'inua a story in ice and time', 'leshy', 'squadron 51', 'a little to the left', 'spiritle', 'monster outbreak', 'elteria adventures', 'agent 64 spies never die', 'berserk boy', 'panzer corps 2 pacific', 'the serpent rogue', 'space wreck', 'photography simulator', 'wet nightmares', 'aztech forgotten gods', 'el paso elsewhere', 'camper flipper', 'cannon foundry simulator', 'frog detective 3 corruption at cowboy county', 'rv renovation', 'hairdresser simulator', 'wayward strand', 'chenso club', 'car thief simulator', 'billie bust up', 'lust for speed', 'loddlenaut', 'afterimage', 'catizens', 'innchanted', 'epiphany city', 'battle cry of freedom', 'rally mechanic simulator', 'solar expanse', 'hell pie', 'forester simulator', 'chef rpg', 'trading time a croak tale', 'cleo a pirates tale', 'zero sievert', 'harmonys odyssey', 'flight catastrophe', 'buccaneers', 'vr supported          ', 'vr supported          ', 'transmute', 'apocalypse cow', 'resort', 'island of penance', 'apostle rebellion', 'quickie a love hotel story', 'tales of herring lake', 'noble fates', 'iii revolving wonderland', 'sovereign syndicate', 'lab rat', 'shovel knight pocket dungeon', 'lonefarm', 'rewrite', 'edenschemata', 'camping builder', 'sky fleet', 'awaking godsoul', 'anomaly hunter', 'alaska gold fever', 'ac130 gunship operator', 'midautumn', 'bright red skies', 'freshly frosted', 'cloud jumper', 'glitchhikers the spaces between', 'winter ember', 'cybertown', 'incantamentum', 'fabular once upon a spacetime', 'i am your lawyer', 'whisker squadron', 'guilt the deathless', 'oaken', 'foundry', 'amber isle', 'book of yog idle rpg', 'archer the witchs wrath', 'out of place', 'harvest island', 'silent night', 'lost nova', 'xgamex', 'minds beneath us', 'subtype grounds', 'barnfinders bid wars dlc', 'xel', 'football story', 'eloquence', 'moses from egypt to the promised land', 'touch type tale strategic typing', 'rumble', 'vr only          ', 'vr only          ', 'lifeguard simulator', 'arcadian rift', 'serum', 'cinema manager', 'i was a teenage exocolonist', 'fist', 'fashion designer', 'pagan age', 'heist simulator', 'fishermens haven', 'princess farmer', 'scallywags honor', 'last moon', 'dcs ah64d', '30', '79995599          ', 'the outbound ghost', 'chinese empire', 'luminary', 'overloop', 'biota', 'frogsong', 'lost ark platinum founders pack', 'pets hotel', 'spaceflight simulator', 'kaiju wars', 'city of beats', 'hotel life a resort simulator', 'doctor simulator', 'blackwind', 'lord of rigel', 'fading afternoon', 'jay and silent bob chronic blunt punch', 'know by heart', 'rough justice 84', 'astlibra revision', 'tower of ardia', 'skabma snowfall', 'the pioneers surviving desolation', 'the dungeon experience', 'king of the dwarves underground city builder', 'stray souls', 'train station renovation germany dlc', 'monorail stories', 'deadhaus sonata', 'pocket bravery', 'cryospace', 'nighthawks', 'moduwar', 'roguelike hero', 'the path of calydra', 'dinos reborn', 'pray game', 'princess of zeven', 'peachleaf valley seeds of love a farming inspired otome', 'blind descent', 'the tarnishing of juxtia', 'other her loving embrace', 'scrap games', 'a new leaf memories', 'wildcat gun machine', 'pekoe', 'project wunderwaffe', 'beneath the mountain', 'eternal threads', 'aquapark renovator', 'lets drive learn driving simulator', 'electrician simulator first shock', 'finnish army simulator', 'thirsty suitors', 'faraway lands rise of yokai', 'copycat', 'the night is grey', 'warriors of the nile 2', 'route 66 simulator', '', 'sky beneath', 'gunner heat pc', 'worship', 'a sex slaves love story', 'republic of jungle', 'dungeon tavern', 'black steel', 'massive galaxy', 'bunker survival', 'blight', 'dirty jobs simulator', 'dreamjob programmer', 'crusader kings iii flavor pack 2', 'hyperviolent', 'underwater space', 'chivalry 2', 'knightly passions episode 1', 'swordcery', 'nihongo quest', 'hindsight', 'potion tycoon', 'astrea sixsided oracles', 'the end of the sun', 'idol lover', 'from fear', 'reina and jericho', 'referee simulator', 'magnet fishing simulator', 'paparazzi simulator', 'escape the loop', 'dark moonlight', 'guns undarkness', 'rise of the third power', 'tracks of thought', 'chernobyl liquidators simulator prologue', 'meor', 'mall craze', 'curse of the sea rats', 'airhead', 'faerie afterlight', 'latex dungeon', 'ukiyo', 'gunhead', 'heatwave', 'the berlin wall', 'born punk', 'romance after dark', 'builder simulator prologue', '', 'shardpunk verminfall', 'jerry wanker and the quest to get laid', 'the last crown blackenrock', 'mad streets', 'uboat vr', 'vr only          ', 'vr only          ', 'summer camp', 'mythos slavic builder', 'playerless one button adventure', 'dust fleet', 'moons of darsalon', 'land of screens', 'frequency chernobyl', 'drova forsaken kin', 'sir you are being hunted reinvented edition', 'hell is others', 'lilas sky ark', 'stormrite', 'frigid', 'tactical galactical', 'guinea pig parkour', 'arclands', 'kingdom shell', 'age of reforgingblackthorn', 'clouzy', 'space cats tactics', 'dying 1983', 'city block builder', 'raceleague', 'duster', 'slavania', 'scp ninetailed fox', 'outlier', 'vr only          ', 'vr only          ', 'ultra strangeness', 'rabbit hole', 'lazr a clothformer', 'tamarindos freaking dinner', '', 'lorns lure', 'bravers', 'last command', 'death cathedral', 'fallen city brawl', 'seen 2', 'terracotta', 'the ranch of rivershine', 'the use of life', 'kaiju fishing', 'cyberpunk bar sim', 'project altheia', 'crimson tactics the rise of the white banner', 'keyboard sports saving qwerty', 'unsung warriors', 'salt 2 shores of gold', 'trpg workshop', 'artificial', 'killing stream', 'chaos galaxy 2', 'spark the electric jester 3', 'ill space', 'coffee bar renovator', 'colonize', 'requisition', 'vr only          ', 'vr only          ', 'flight of nova', 'among ripples shallow waters', 'renown', 'line war', 'evil nun the broken mask', 'king of the hat', 'the lewd knight', 'kuukiyomi consider it online', 'glitchphobia', 'the light of the darkness', 'advent neon', 'restaurant renovation', 'the season of the warlock', 'blueberry', 'treasure hunter simulator 2', 'evil wizard', 'immortal and the death that follows', 'grid force mask of the goddess', 'uboat mechanic simulator', 'aethernaut', 'garage flipper', 'noahs ark', 'blacksmith bay', 'archaelund', 'doomblade', 'the crust', 'iron vulture', 'validate struggling singles in your area', 'maid envy', 'offroad delivery service', 'police shootout prologue', 'bounce paradise', 'potato flowers in full bloom', 'crimesight', 'lawgivers ii', 'super catboy', 'subterrain mines of titan', 'miners hell', 'hellsweeper vr', 'vr only          ', 'vr only          ', 'super ufo fighter', 'dead ink', 'insatia', 'opportunity a sugar baby story', 'serafina and the key to the egg', 'lake resort flipper', 'infinitesimals', 'mother of all secrets', 'necrofugitive', 'the inheritance of crimson manor', 'dune mechanic survive the steampunk era', 'kings reign', 'farewell north', 'exocide', 'real vr fishing', 'vr supported          ', 'vr supported          ', 'a memoir blue', 'running rogue', 'aquamarine', 'diluvian ultra', 'villagedom', 'the forest quartet', 'lushfoil photography sim', 'the con simulator', 'gastova the witches of arkana', 'mechanic 8230', 'what never was chapter ii', 'a guidebook of babel', 'call of saregnar']\n"
          ]
        }
      ]
    }
  ],
  "metadata": {
    "colab": {
      "name": "Steam Scrapper.ipynb",
      "provenance": [],
      "collapsed_sections": [],
      "include_colab_link": true
    },
    "kernelspec": {
      "display_name": "Python 3",
      "name": "python3"
    },
    "language_info": {
      "name": "python"
    }
  },
  "nbformat": 4,
  "nbformat_minor": 0
}